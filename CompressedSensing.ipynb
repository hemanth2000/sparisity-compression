{
  "nbformat": 4,
  "nbformat_minor": 0,
  "metadata": {
    "colab": {
      "name": "CompressedSensing.ipynb",
      "provenance": [],
      "authorship_tag": "ABX9TyPzpecRd3vN8ykfKcPyYFVl",
      "include_colab_link": true
    },
    "kernelspec": {
      "name": "python3",
      "display_name": "Python 3"
    },
    "language_info": {
      "name": "python"
    }
  },
  "cells": [
    {
      "cell_type": "markdown",
      "metadata": {
        "id": "view-in-github",
        "colab_type": "text"
      },
      "source": [
        "<a href=\"https://colab.research.google.com/github/hemanth2000/sparsity-compression/blob/main/CompressedSensing.ipynb\" target=\"_parent\"><img src=\"https://colab.research.google.com/assets/colab-badge.svg\" alt=\"Open In Colab\"/></a>"
      ]
    },
    {
      "cell_type": "markdown",
      "source": [
        "# Sparsity\n",
        "\n",
        "Representation of a large data in a coordinate system such that most of the components are zero. \n",
        "\n",
        "$$X=\\Psi S$$\n",
        "\n",
        "where, $X$ is original signal, $\\Psi$ is transformation matrix, and $S$ is coefficients. $\\Psi$ is also known as Universal basis.\n",
        "\n",
        "Here most of the elements in $S$ are zero which makes it sparse. Neglecting those elements and storing only non-zero values saves a lot of space and computation time. "
      ],
      "metadata": {
        "id": "weW7esQaqMvz"
      }
    },
    {
      "cell_type": "markdown",
      "source": [
        "# Compressed Sensing\n",
        "\n",
        "The idea of compressed sensing is that only some of the elements of $X$ are required to construct the full image.\n",
        "\n",
        "Ofcourse the nonzero elements of $X$ must be known at random pixels. \n",
        "\n",
        "Let $Y$ be the sparse measuremnts of the image data. \n",
        "\n",
        "\n",
        "$$Y = C X = C \\Psi S = \\Theta S$$\n",
        "\n",
        "The above problem is a underdertermined as number of equaitons are smaller than the number of variables. \n",
        "\n",
        "Here $S$ is unknown. $\\Theta$ and $Y$ are known.\n",
        "\n",
        "There are different ways to solve this problem. \n",
        "\n",
        "1. min $||C\\Psi S-Y||_2+\\lambda||S||_2$\n",
        "\n",
        "2. min $||C\\Psi S-Y||_2+\\lambda||S||_1$"
      ],
      "metadata": {
        "id": "4dOizGXfseHf"
      }
    },
    {
      "cell_type": "code",
      "execution_count": 1,
      "metadata": {
        "id": "BM0s_Tk7qJFd"
      },
      "outputs": [],
      "source": [
        "import numpy as np \n",
        "import matplotlib.pyplot as plt\n",
        "from scipy.optimize import minimize\n",
        "import os\n",
        "plt.rcParams['figure.figsize'] = [12, 18]\n",
        "plt.rcParams.update({'font.size':18})"
      ]
    },
    {
      "cell_type": "code",
      "source": [
        "n = 1000    # Length of sparse vector S\n",
        "p = 200     # Number of Measurments  \n",
        "Theta = np.random.randn(p,n)\n",
        "y = np.random.randn(p)\n",
        "\n",
        "def L1_norm(x):\n",
        "  return np.linalg.norm(x,ord=1)\n",
        "\n",
        "constr = ({ 'type' : 'eq', 'fun': lambda x: Theta@x - y })\n",
        "x0 = np.linalg.pinv(Theta) @ y\n",
        "res = minimize(L1_norm, x0, method = 'SLSQP', constraints = constr)\n",
        "s_L1 = res.x"
      ],
      "metadata": {
        "id": "hYsJfNH0NG9s"
      },
      "execution_count": 4,
      "outputs": []
    },
    {
      "cell_type": "markdown",
      "source": [
        "\n",
        "- L1 norm gives sparse S\n",
        "\n",
        "- L2 norm gives least squared solution to S"
      ],
      "metadata": {
        "id": "T3prB_MHPTNn"
      }
    },
    {
      "cell_type": "code",
      "source": [
        "s_L2 = np.linalg.pinv(Theta)@y # L2 norm solution"
      ],
      "metadata": {
        "id": "2Uvk7XCzPLid"
      },
      "execution_count": 5,
      "outputs": []
    },
    {
      "cell_type": "code",
      "source": [
        "fig, axs = plt.subplots(2,2)\n",
        "axs = axs.reshape(-1)\n",
        "\n",
        "axs[0].plot(s_L1,color='y',LineWidth=1.5)\n",
        "axs[0].set_ylim(-0.2,0.2)\n",
        "axs[1].plot(s_L2,color='c',LineWidth=1.5)\n",
        "axs[1].set_ylim(-0.2,0.2)\n",
        "axs[2].hist(s_L1,bins=np.arange(-0.105,0.105,0.01),rwidth=0.9)\n",
        "axs[3].hist(s_L2,bins=np.arange(-0.105,0.105,0.01),rwidth=0.9)\n"
      ],
      "metadata": {
        "colab": {
          "base_uri": "https://localhost:8080/",
          "height": 373
        },
        "id": "-512pLRpOHgT",
        "outputId": "740d71c1-1020-4980-f69f-546864a90ef0"
      },
      "execution_count": 6,
      "outputs": [
        {
          "output_type": "execute_result",
          "data": {
            "text/plain": [
              "(array([  0.,   0.,   0.,   0.,   1.,   5.,  12.,  67., 115., 188., 230.,\n",
              "        190., 119.,  53.,  15.,   4.,   1.,   0.,   0.,   0.]),\n",
              " array([-0.105, -0.095, -0.085, -0.075, -0.065, -0.055, -0.045, -0.035,\n",
              "        -0.025, -0.015, -0.005,  0.005,  0.015,  0.025,  0.035,  0.045,\n",
              "         0.055,  0.065,  0.075,  0.085,  0.095]),\n",
              " <a list of 20 Patch objects>)"
            ]
          },
          "metadata": {},
          "execution_count": 6
        },
        {
          "output_type": "display_data",
          "data": {
            "image/png": "[encoded data removed]",
            "text/plain": [
              "<Figure size 432x288 with 4 Axes>"
            ]
          },
          "metadata": {
            "needs_background": "light"
          }
        }
      ]
    },
    {
      "cell_type": "markdown",
      "source": [
        "From the plots, S from L1-norm is much sparser than L2-norm. "
      ],
      "metadata": {
        "id": "k24FKweRQ97A"
      }
    },
    {
      "cell_type": "code",
      "source": [
        ""
      ],
      "metadata": {
        "id": "XYd8DtA9RHAR"
      },
      "execution_count": null,
      "outputs": []
    }
  ]
}